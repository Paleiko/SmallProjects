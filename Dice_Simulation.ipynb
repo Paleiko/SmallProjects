{
 "cells": [
  {
   "cell_type": "code",
   "execution_count": 53,
   "metadata": {},
   "outputs": [
    {
     "name": "stdout",
     "output_type": "stream",
     "text": [
      "How many dices you want to roll? 2\n",
      "How many times you want to roll? 1000\n"
     ]
    }
   ],
   "source": [
    "import random\n",
    "\n",
    "num_of_dices = input(\"How many dices you want to roll? \")\n",
    "\n",
    "dices = {}\n",
    "for _ in range(int(input(\"How many times you want to roll? \"))):\n",
    "    sub_sum = 0\n",
    "    for _ in range(int(num_of_dices)):\n",
    "        sub_sum += random.randint(1,6)\n",
    "    dice_sum = str(sub_sum)\n",
    "    if dice_sum not in dices:\n",
    "        dices[dice_sum] = 1\n",
    "    else:\n",
    "        dices[dice_sum] += 1"
   ]
  },
  {
   "cell_type": "code",
   "execution_count": 54,
   "metadata": {},
   "outputs": [
    {
     "data": {
      "text/plain": [
       "array([[  2,  23],\n",
       "       [  3,  60],\n",
       "       [  4,  75],\n",
       "       [  5, 104],\n",
       "       [  6, 148],\n",
       "       [  7, 162],\n",
       "       [  8, 134],\n",
       "       [  9, 122],\n",
       "       [ 10,  91],\n",
       "       [ 11,  57],\n",
       "       [ 12,  24]], dtype=int64)"
      ]
     },
     "execution_count": 54,
     "metadata": {},
     "output_type": "execute_result"
    }
   ],
   "source": [
    "import pandas as pd\n",
    "import matplotlib.pyplot as plt\n",
    "%matplotlib inline\n",
    "\n",
    "df = pd.DataFrame(list(dices.items()), columns=['value', 'count'])\n",
    "df.value = pd.to_numeric(df.value, errors='coerce')\n",
    "df = df.sort_values(by=['value'])\n",
    "df.values"
   ]
  },
  {
   "cell_type": "code",
   "execution_count": 55,
   "metadata": {},
   "outputs": [
    {
     "data": {
      "text/plain": [
       "<matplotlib.axes._subplots.AxesSubplot at 0x1d607ccb470>"
      ]
     },
     "execution_count": 55,
     "metadata": {},
     "output_type": "execute_result"
    },
    {
     "data": {
      "image/png": "[encoded data removed]",
      "text/plain": [
       "<Figure size 432x288 with 1 Axes>"
      ]
     },
     "metadata": {
      "needs_background": "light"
     },
     "output_type": "display_data"
    }
   ],
   "source": [
    "df.plot(kind = 'bar', x ='value')"
   ]
  }
 ],
 "metadata": {
  "kernelspec": {
   "display_name": "Python 3",
   "language": "python",
   "name": "python3"
  },
  "language_info": {
   "codemirror_mode": {
    "name": "ipython",
    "version": 3
   },
   "file_extension": ".py",
   "mimetype": "text/x-python",
   "name": "python",
   "nbconvert_exporter": "python",
   "pygments_lexer": "ipython3",
   "version": "3.7.0"
  }
 },
 "nbformat": 4,
 "nbformat_minor": 2
}
