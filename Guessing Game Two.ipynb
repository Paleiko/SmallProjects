{
 "cells": [
  {
   "cell_type": "code",
   "execution_count": 2,
   "metadata": {},
   "outputs": [
    {
     "name": "stdout",
     "output_type": "stream",
     "text": [
      "Just think of a number between 1 and 100! Type \"start\" if you're ready!start\n",
      "I would guess 50.\n",
      "Was it too high (h), too low (l) or correct (c)?l\n",
      "I would guess 75.\n",
      "Was it too high (h), too low (l) or correct (c)?l\n",
      "I would guess 87.\n",
      "Was it too high (h), too low (l) or correct (c)?l\n",
      "I would guess 93.\n",
      "Was it too high (h), too low (l) or correct (c)?h\n",
      "I would guess 90.\n",
      "Was it too high (h), too low (l) or correct (c)?h\n",
      "I would guess 88.\n",
      "Was it too high (h), too low (l) or correct (c)?c\n",
      "The final count is: 6!\n"
     ]
    }
   ],
   "source": [
    "'''\n",
    "Guessing Game: You think about a number and let the program guess it - print number of trys to find the correct number\n",
    "After each try you will tell whether it was too high or too low\n",
    "\n",
    ":input: String: too high / too low\n",
    ":print: int: guess of the program\n",
    ":return: count of guesses\n",
    "'''\n",
    "\n",
    "found = False\n",
    "count = 0\n",
    "upper_bound = 100\n",
    "lower_bound = 1\n",
    "\n",
    "start = input(\"Just think of a number between 1 and 100! Type \\\"start\\\" if you're ready!\")\n",
    "if start == \"start\":\n",
    "    #run till the number is found\n",
    "    while found != True:\n",
    "\n",
    "        new_guess = (upper_bound + lower_bound) // 2\n",
    "        count += 1    \n",
    "        print(\"I would guess {}.\".format(new_guess))\n",
    "        reaction = input(\"Was it too high (h), too low (l) or correct (c)?\")\n",
    "        if reaction.lower() == \"h\":\n",
    "            upper_bound = new_guess\n",
    "            continue\n",
    "        if reaction.lower() == \"l\":\n",
    "            lower_bound = new_guess\n",
    "            continue\n",
    "        if reaction.lower() == \"c\":\n",
    "            found = True\n",
    "        else:\n",
    "            print(\"Sorry, that was no viable answer, please repeat!\")\n",
    "            count -= 1\n",
    "\n",
    "    print(\"The final count is: {}!\".format(str(count)))\n",
    "else:\n",
    "    print(\"I'm sorry. We can't play if you don't want to.\")"
   ]
  },
  {
   "cell_type": "code",
   "execution_count": null,
   "metadata": {},
   "outputs": [],
   "source": []
  }
 ],
 "metadata": {
  "kernelspec": {
   "display_name": "Python 3",
   "language": "python",
   "name": "python3"
  },
  "language_info": {
   "codemirror_mode": {
    "name": "ipython",
    "version": 3
   },
   "file_extension": ".py",
   "mimetype": "text/x-python",
   "name": "python",
   "nbconvert_exporter": "python",
   "pygments_lexer": "ipython3",
   "version": "3.7.0"
  }
 },
 "nbformat": 4,
 "nbformat_minor": 2
}
